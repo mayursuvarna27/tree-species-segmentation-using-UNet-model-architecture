{
 "cells": [
  {
   "cell_type": "code",
   "execution_count": 4,
   "metadata": {},
   "outputs": [],
   "source": [
    "import rasterio\n",
    "import os\n",
    "from rasterio.windows import Window\n",
    "\n",
    "def patchify(image_path, mask_path, patch_size, patch_step, output_image_folder, output_mask_folder):\n",
    "    with rasterio.open(image_path) as src_img, rasterio.open(mask_path) as src_mask:\n",
    "        width = src_img.width\n",
    "        height = src_img.height\n",
    "        \n",
    "        if not os.path.exists(output_image_folder):\n",
    "            os.makedirs(output_image_folder)\n",
    "        if not os.path.exists(output_mask_folder):\n",
    "            os.makedirs(output_mask_folder)\n",
    "            \n",
    "        patch_id = 0\n",
    "        for i in range(0, width - patch_size + 1, patch_step):\n",
    "            for j in range(0, height - patch_size + 1, patch_step):\n",
    "                # Define window for image and mask\n",
    "                window = Window(i, j, patch_size, patch_size)\n",
    "                transform_img = src_img.window_transform(window)\n",
    "                transform_mask = src_mask.window_transform(window)\n",
    "                \n",
    "                # Read patches\n",
    "                img_patch = src_img.read(window=window)\n",
    "                mask_patch = src_mask.read(1, window=window)  # Assuming single-band mask\n",
    "                \n",
    "                # Save image patch\n",
    "                img_patch_filename = os.path.join(output_image_folder, f'image_patch_{patch_id}.tif')\n",
    "                with rasterio.open(img_patch_filename, 'w', driver='GTiff',\n",
    "                                   height=patch_size, width=patch_size,\n",
    "                                   count=src_img.count, dtype=img_patch.dtype,\n",
    "                                   crs=src_img.crs, transform=transform_img) as dst_img:\n",
    "                    dst_img.write(img_patch)\n",
    "                \n",
    "                # Save mask patch\n",
    "                mask_patch_filename = os.path.join(output_mask_folder, f'mask_patch_{patch_id}.tif')\n",
    "                with rasterio.open(mask_patch_filename, 'w', driver='GTiff',\n",
    "                                   height=patch_size, width=patch_size,\n",
    "                                   count=1, dtype=mask_patch.dtype,\n",
    "                                   crs=src_mask.crs, transform=transform_mask) as dst_mask:\n",
    "                    dst_mask.write(mask_patch, 1)\n",
    "                \n",
    "                patch_id += 1\n",
    "\n",
    "# Parameters\n",
    "image_path = r\"F:\\datasets\\raw data\\papaya_mango\\papaya_mango_raster.tif\"\n",
    "mask_path = r\"F:\\datasets\\raw data\\papaya_mango\\papaya_mango_8bit.tif\"\n",
    "patch_size = 256  # Size of each patch (256x256)\n",
    "patch_step = 128  # Step size for moving the patch window\n",
    "output_image_folder = r\"F:\\datasets\\dataset\\papaya_mango\\images\"\n",
    "output_mask_folder = r\"F:\\datasets\\dataset\\papaya_mango\\masks\"\n",
    "\n",
    "patchify(image_path, mask_path, patch_size, patch_step, output_image_folder, output_mask_folder)\n"
   ]
  },
  {
   "cell_type": "code",
   "execution_count": null,
   "metadata": {},
   "outputs": [],
   "source": []
  },
  {
   "cell_type": "code",
   "execution_count": null,
   "metadata": {},
   "outputs": [],
   "source": []
  }
 ],
 "metadata": {
  "kernelspec": {
   "display_name": "Python 3",
   "language": "python",
   "name": "python3"
  },
  "language_info": {
   "codemirror_mode": {
    "name": "ipython",
    "version": 3
   },
   "file_extension": ".py",
   "mimetype": "text/x-python",
   "name": "python",
   "nbconvert_exporter": "python",
   "pygments_lexer": "ipython3",
   "version": "3.11.4"
  }
 },
 "nbformat": 4,
 "nbformat_minor": 2
}
